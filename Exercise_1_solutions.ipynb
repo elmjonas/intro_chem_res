{
 "cells": [
  {
   "cell_type": "markdown",
   "metadata": {
    "id": "t_sSu9Jtwhv1"
   },
   "source": [
    "# Exercise 1\n",
    "\n",
    "Based on: https://github.com/andersx/python-intro/blob/master/intro_exercises1_2020.ipynb\n",
    "\n",
    "Developed in collaboration with Yosef Knattrup"
   ]
  },
  {
   "cell_type": "markdown",
   "metadata": {
    "id": "SiozH8Mswu2F"
   },
   "source": [
    "## Exercise 1.1: Basic math\n",
    "\n",
    "Try to calculate the following equation and print it:\n",
    "\n",
    "\\begin{equation}42/3\\cdot2^2\\end{equation}"
   ]
  },
  {
   "cell_type": "code",
   "execution_count": 1,
   "metadata": {
    "colab": {
     "base_uri": "https://localhost:8080/"
    },
    "id": "mRh66gS9vkXb",
    "outputId": "366d1024-941f-48ea-dbee-8574ceabe8b0"
   },
   "outputs": [
    {
     "data": {
      "text/plain": [
       "56.0"
      ]
     },
     "execution_count": 1,
     "metadata": {},
     "output_type": "execute_result"
    }
   ],
   "source": [
    "###YOUR CODE HERE\n",
    "\n",
    "(42/3)*(2)**2\n",
    "\n",
    "###END OF YOUR CODE"
   ]
  },
  {
   "cell_type": "markdown",
   "metadata": {
    "id": "MyjK6PxUxfpq"
   },
   "source": [
    "## Exercise 1.2: Loops\n",
    "Try to calculate the following sum.\n",
    "\n",
    "$$x=\\sum^{25}_{n=0}n^{2}$$\n",
    "\n",
    "We have already initialized a variable and done the printing for you."
   ]
  },
  {
   "cell_type": "code",
   "execution_count": 2,
   "metadata": {
    "colab": {
     "base_uri": "https://localhost:8080/"
    },
    "id": "Pwg7xQRrx35q",
    "outputId": "95d6fd0e-cd42-43f7-cb61-514ae67c90dc"
   },
   "outputs": [
    {
     "name": "stdout",
     "output_type": "stream",
     "text": [
      "x is 5525\n"
     ]
    }
   ],
   "source": [
    "x = 0\n",
    "\n",
    "##YOUR CODE HERE\n",
    "\n",
    "# Function to calculate the sum of squares\n",
    "def sum_of_squares(n):\n",
    "    return sum(x**2 for x in range(n + 1))\n",
    "\n",
    "# Calculate the sum of squares for numbers from 0 to 25\n",
    "x = sum_of_squares(25)\n",
    "\n",
    "###END OF YOUR CODE\n",
    "\n",
    "print('x is',x)"
   ]
  },
  {
   "cell_type": "markdown",
   "metadata": {
    "id": "eES7vQqSydIp"
   },
   "source": [
    "## Exercise 1.3: Loops over lists\n",
    "Using quantum mechanics we can show that a molecule will have a non-vanishing energy at $T=0$ given as\n",
    "\n",
    "$$ E_0 = \\sum_i^{n}\\frac{1}{2}hcv_i$$\n",
    "\n",
    "Where $n$ is the total number of vibrational modes, $h$ is the Planck constant, $c$ is the speed of light and $v_i$ is the $i$'th vibrational frequencey. Given a list of vibrational frequencies calculate that sum using loops over lists\n"
   ]
  },
  {
   "cell_type": "code",
   "execution_count": 3,
   "metadata": {
    "colab": {
     "base_uri": "https://localhost:8080/"
    },
    "id": "IExWzeId0KS3",
    "outputId": "318e9a96-3f87-4369-94d0-3caef0bc1645"
   },
   "outputs": [
    {
     "name": "stdout",
     "output_type": "stream",
     "text": [
      "The zero point energy is 4.5557600778173285e-20 J\n"
     ]
    }
   ],
   "source": [
    "E = 0\n",
    "vibs = [1324,827,731] # [cm^-1]\n",
    "vibs = [v*10**3 for v in vibs] # [m^-1]\n",
    "h = 1.054571817*10**(-34) # [J*s]\n",
    "c = 299792458 # [m s^-1]\n",
    "\n",
    "##YOUR CODE HERE\n",
    "\n",
    "E = 0\n",
    "for v in vibs:\n",
    "    E = E + 1/2*h*c*v\n",
    "\n",
    "###END OF YOUR CODE\n",
    "print('The zero point energy is',E,'J')"
   ]
  },
  {
   "cell_type": "markdown",
   "metadata": {
    "id": "WJbAHeZ91yWq"
   },
   "source": [
    "## Exercise 1.4: NumPy\n",
    "Do the same calculation for E as in exercise 1.3 but using NumPy instead of a loop.\n",
    "\n",
    "Remember that we can do elementvise math operations on NumPy arrays and that NumPy has a np.sum function.   "
   ]
  },
  {
   "cell_type": "code",
   "execution_count": 4,
   "metadata": {
    "colab": {
     "base_uri": "https://localhost:8080/"
    },
    "id": "7P6Od4os1k7a",
    "outputId": "4c1fbe36-39d0-43b9-cb5e-0a9d68693f27"
   },
   "outputs": [
    {
     "name": "stdout",
     "output_type": "stream",
     "text": [
      "The zero point energy is 4.5557600778173285e-20 J\n"
     ]
    }
   ],
   "source": [
    "import numpy as np\n",
    "vibs = np.array([1324,827,731]) # [cm^-1]\n",
    "vibs = vibs*10**3 # [m^-1]\n",
    "h = 1.054571817*10**(-34) # [J*s]\n",
    "c = 299792458 # [m s^-1]\n",
    "\n",
    "##YOUR CODE HERE\n",
    "\n",
    "E = np.sum(1/2*h*c*vibs)\n",
    "\n",
    "###END OF YOUR CODE\n",
    "\n",
    "print('The zero point energy is', E,'J')"
   ]
  },
  {
   "cell_type": "code",
   "execution_count": null,
   "metadata": {},
   "outputs": [],
   "source": []
  }
 ],
 "metadata": {
  "colab": {
   "provenance": []
  },
  "kernelspec": {
   "display_name": "Python 3 (ipykernel)",
   "language": "python",
   "name": "python3"
  },
  "language_info": {
   "codemirror_mode": {
    "name": "ipython",
    "version": 3
   },
   "file_extension": ".py",
   "mimetype": "text/x-python",
   "name": "python",
   "nbconvert_exporter": "python",
   "pygments_lexer": "ipython3",
   "version": "3.9.10"
  }
 },
 "nbformat": 4,
 "nbformat_minor": 1
}
