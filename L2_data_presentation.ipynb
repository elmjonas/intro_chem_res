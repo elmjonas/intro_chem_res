{
 "cells": [
  {
   "cell_type": "markdown",
   "id": "731a8d10",
   "metadata": {},
   "source": [
    "# Lecture 2 - Data Presentation\n",
    "\n",
    "Heavily inspired by a my colleague Anders S. Christensen. Check out his github intros for yourself!\n",
    "\n",
    "https://github.com/andersx/python-intro\n",
    "\n",
    "Matplotlib examples are from the Matplotlib website."
   ]
  },
  {
   "cell_type": "markdown",
   "id": "a1502be4",
   "metadata": {},
   "source": [
    "## Section 1 - Linear Least Squares Regression"
   ]
  },
  {
   "cell_type": "markdown",
   "id": "a4ad55f0",
   "metadata": {},
   "source": [
    "First, lets start with some data for a linear function:\n",
    "\\begin{equation}\n",
    "y = 1.2x + \\mathrm{noise}\n",
    "\\end{equation}"
   ]
  },
  {
   "cell_type": "code",
   "execution_count": null,
   "id": "ac3b98ca",
   "metadata": {},
   "outputs": [],
   "source": [
    "import numpy as np\n",
    "\n",
    "np.random.seed(666)\n",
    "\n",
    "# X-values\n",
    "x = np.arange(0,20.0, 0.2)\n",
    "\n",
    "# Y-values: Y = 1.2*X + random noise \n",
    "y = 1.2 * x + np.random.normal(scale=2.0, size=len(x))\n",
    "\n",
    "print(x.shape)\n",
    "print(y.shape)"
   ]
  },
  {
   "cell_type": "markdown",
   "id": "d8002bbd",
   "metadata": {},
   "source": [
    "#### Let's try to plot the data:"
   ]
  },
  {
   "cell_type": "code",
   "execution_count": null,
   "id": "b70717ed",
   "metadata": {},
   "outputs": [],
   "source": [
    "import matplotlib.pyplot as plt\n",
    "\n",
    "plt.scatter(x, y, marker='.', color='black', label='Training data')\n",
    "plt.plot(x, x*1.2, color='red', label=\"Truth\")\n",
    "plt.xlabel('x', size=10, weight='bold')\n",
    "plt.ylabel('y', size=10, weight='bold')\n",
    "plt.grid(True)\n",
    "plt.title('Linear Regression', size=12, weight='bold')\n",
    "plt.legend()\n",
    "plt.show()"
   ]
  },
  {
   "cell_type": "markdown",
   "id": "964a6f6d",
   "metadata": {},
   "source": [
    "#### We now want to fit a linear regression model to the data:"
   ]
  },
  {
   "cell_type": "code",
   "execution_count": null,
   "id": "93c05bd3",
   "metadata": {},
   "outputs": [],
   "source": [
    "import scipy.optimize as sco"
   ]
  },
  {
   "cell_type": "code",
   "execution_count": null,
   "id": "9aa627c3",
   "metadata": {},
   "outputs": [],
   "source": [
    "def func(x, m, b):\n",
    "    y = m * x + b\n",
    "    return y"
   ]
  },
  {
   "cell_type": "code",
   "execution_count": null,
   "id": "584bee16",
   "metadata": {},
   "outputs": [],
   "source": [
    "(m, b), var = sco.curve_fit(func, x, y)"
   ]
  },
  {
   "cell_type": "code",
   "execution_count": null,
   "id": "9f39d35b",
   "metadata": {},
   "outputs": [],
   "source": [
    "residuals = y - func(x, m, b)\n",
    "ss_res = np.sum(residuals**2)\n",
    "ss_tot = np.sum((y - np.mean(y))**2)\n",
    "R2 = 1 - (ss_res / ss_tot)"
   ]
  },
  {
   "cell_type": "code",
   "execution_count": null,
   "id": "8115471d",
   "metadata": {},
   "outputs": [],
   "source": [
    "plt.scatter(x, y, marker='.', color='black', label='Training data')\n",
    "plt.plot(x, func(x, m, b), color='red', label=f'fit: R2={R2:.2f}% m={m:.4f} b={b:.4f}')\n",
    "plt.xlabel('x', size=10, weight='bold')\n",
    "plt.ylabel('y', size=10, weight='bold')\n",
    "plt.grid(True)\n",
    "plt.title('Linear Regression', size=12, weight='bold')\n",
    "plt.legend()\n",
    "plt.show()"
   ]
  },
  {
   "cell_type": "markdown",
   "id": "df6a0c2c",
   "metadata": {},
   "source": [
    "### What does linear regression do?\n",
    "\n",
    "It is an approximation to a linear function:\n",
    "\n",
    "\\begin{equation}\n",
    "y(\\mathbf{x}) = x_1 \\alpha_1 + x_2 \\alpha_2 + \\dots + x_n \\alpha_n\n",
    "\\end{equation}\n",
    "This can conviently be written in vector notation:\n",
    "\\begin{equation}\n",
    "y(\\mathbf{x}) = \\mathbf{x} \\cdot \\mathbf{\\alpha}\n",
    "\\end{equation}\n",
    "\n",
    "Where $\\mathbf{x}$ is our feature vector/descriptor/representation for a given datapoint. $\\mathbf{\\alpha}$ is the vector of regression coefficients.\n",
    "\n",
    "\"Fitting\" is what you do to find the best set of $\\alpha$-values. This is done by finding the solution with the \"least squares\":\n",
    "\n",
    "\\begin{equation}\n",
    "\\mathbf{y} = \\mathbf{X}\\mathbf{\\alpha}\n",
    "\\end{equation}\n",
    "\n",
    "Minimze the error:\n",
    "\\begin{equation}\n",
    "\\mathbf{\\alpha} = \\text{arg min} || \\mathbf{y}^\\text{ref} - \\mathbf{X}\\mathbf{\\alpha}||^2\n",
    "\\end{equation}"
   ]
  },
  {
   "cell_type": "markdown",
   "id": "02f67dc5",
   "metadata": {},
   "source": [
    "## Section 2 - Non-linear regression?\n",
    "\n",
    "How would we fit a sine function?"
   ]
  },
  {
   "cell_type": "code",
   "execution_count": null,
   "id": "8be0c8b7",
   "metadata": {},
   "outputs": [],
   "source": [
    "import numpy as np\n",
    "import matplotlib.pyplot as plt\n",
    "\n",
    "\n",
    "x = np.arange(0,6.6, 0.6)\n",
    "y = np.sin(x) #+ (np.random.random(size=len(x)) - 0.5) * 0.5\n",
    "\n",
    "print(x.shape)\n",
    "print(y.shape)\n",
    "\n",
    "xplot = np.arange(0,6.6, 0.01)\n",
    "\n",
    "plt.scatter(x,y, label=\"Training\")\n",
    "plt.plot(xplot, np.sin(xplot), color=\"g\", label=\"sin(x)\")\n",
    "\n",
    "plt.legend()\n",
    "plt.show()"
   ]
  },
  {
   "cell_type": "markdown",
   "id": "90225560",
   "metadata": {},
   "source": [
    "#### This is a job for machine learning! There is a very cool example (machine_learning_example_sinx.ipynb) at https://github.com/andersx/python-intro"
   ]
  },
  {
   "cell_type": "markdown",
   "id": "05388782",
   "metadata": {},
   "source": [
    "## Section 3 - Plotting types\n",
    "\n",
    "Can everything be nicely plotted as a linear function? \n",
    "\n",
    "What about multivariable data sets?\n",
    "\n",
    "What should I choose?"
   ]
  },
  {
   "cell_type": "markdown",
   "id": "5088f746",
   "metadata": {},
   "source": [
    "## Histograms\n",
    "\n",
    "Example taken from matpotlib documentation."
   ]
  },
  {
   "cell_type": "code",
   "execution_count": null,
   "id": "9be1f760",
   "metadata": {},
   "outputs": [],
   "source": [
    "import matplotlib\n",
    "import numpy as np\n",
    "import matplotlib.pyplot as plt\n",
    "\n",
    "np.random.seed(19680801)\n",
    "\n",
    "# example data\n",
    "mu = 100  # mean of distribution\n",
    "sigma = 15  # standard deviation of distribution\n",
    "x = mu + sigma * np.random.randn(437)\n",
    "\n",
    "num_bins = 50\n",
    "\n",
    "fig, ax = plt.subplots()\n",
    "\n",
    "# the histogram of the data\n",
    "n, bins, patches = ax.hist(x, num_bins, density=1)\n",
    "\n",
    "# add a 'best fit' line\n",
    "y = ((1 / (np.sqrt(2 * np.pi) * sigma)) *\n",
    "     np.exp(-0.5 * (1 / sigma * (bins - mu))**2))\n",
    "ax.plot(bins, y, '--')\n",
    "ax.set_xlabel('Smarts')\n",
    "ax.set_ylabel('Probability density')\n",
    "ax.set_title(r'Histogram of IQ: $\\mu=100$, $\\sigma=15$')\n",
    "\n",
    "# Tweak spacing to prevent clipping of ylabel\n",
    "fig.tight_layout()\n",
    "plt.show()"
   ]
  },
  {
   "cell_type": "markdown",
   "id": "2c6aa5bc",
   "metadata": {},
   "source": [
    "## Boxplots\n",
    "\n",
    "Example taken from matpotlib documentation"
   ]
  },
  {
   "cell_type": "code",
   "execution_count": null,
   "id": "06e2030f",
   "metadata": {},
   "outputs": [],
   "source": [
    "import matplotlib.pyplot as plt\n",
    "import numpy as np\n",
    "\n",
    "fig, axes = plt.subplots(nrows=1, ncols=2, figsize=(9, 4))\n",
    "\n",
    "# Fixing random state for reproducibility\n",
    "np.random.seed(19680801)\n",
    "\n",
    "\n",
    "# generate some random test data\n",
    "all_data = [np.random.normal(0, std, 100) for std in range(6, 10)]\n",
    "\n",
    "# plot violin plot\n",
    "axes[0].violinplot(all_data,\n",
    "                   showmeans=False,\n",
    "                   showmedians=True)\n",
    "axes[0].set_title('Violin plot')\n",
    "\n",
    "# plot box plot\n",
    "axes[1].boxplot(all_data)\n",
    "axes[1].set_title('Box plot')\n",
    "\n",
    "# adding horizontal grid lines\n",
    "for ax in axes:\n",
    "    ax.yaxis.grid(True)\n",
    "    ax.set_xticks([y + 1 for y in range(len(all_data))])\n",
    "    ax.set_xlabel('Four separate samples')\n",
    "    ax.set_ylabel('Observed values')\n",
    "\n",
    "# add x-tick labels\n",
    "plt.setp(axes, xticks=[y + 1 for y in range(len(all_data))],\n",
    "         xticklabels=['x1', 'x2', 'x3', 'x4'])\n",
    "plt.show()"
   ]
  },
  {
   "cell_type": "code",
   "execution_count": null,
   "id": "e4c24257",
   "metadata": {},
   "outputs": [],
   "source": []
  },
  {
   "cell_type": "code",
   "execution_count": null,
   "id": "f6d08d08",
   "metadata": {},
   "outputs": [],
   "source": []
  },
  {
   "cell_type": "code",
   "execution_count": null,
   "id": "cef4e28b",
   "metadata": {},
   "outputs": [],
   "source": []
  },
  {
   "cell_type": "code",
   "execution_count": null,
   "id": "56d5bd09",
   "metadata": {},
   "outputs": [],
   "source": []
  },
  {
   "cell_type": "code",
   "execution_count": null,
   "id": "aa8e2b66",
   "metadata": {},
   "outputs": [],
   "source": []
  },
  {
   "cell_type": "code",
   "execution_count": null,
   "id": "2a6426fc",
   "metadata": {},
   "outputs": [],
   "source": []
  },
  {
   "cell_type": "code",
   "execution_count": null,
   "id": "bdbffe5c",
   "metadata": {},
   "outputs": [],
   "source": []
  }
 ],
 "metadata": {
  "kernelspec": {
   "display_name": "Python 3 (ipykernel)",
   "language": "python",
   "name": "python3"
  },
  "language_info": {
   "codemirror_mode": {
    "name": "ipython",
    "version": 3
   },
   "file_extension": ".py",
   "mimetype": "text/x-python",
   "name": "python",
   "nbconvert_exporter": "python",
   "pygments_lexer": "ipython3",
   "version": "3.9.10"
  }
 },
 "nbformat": 4,
 "nbformat_minor": 5
}
