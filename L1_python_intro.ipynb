{
 "cells": [
  {
   "cell_type": "markdown",
   "id": "db151c3a",
   "metadata": {},
   "source": [
    "# Lecture 1 - Introduction to Python\n",
    "\n",
    "Heavily inspired by a my colleague Anders S. Christensen. Check out his github intros for yourself!\n",
    "\n",
    "https://github.com/andersx/python-intro"
   ]
  },
  {
   "cell_type": "markdown",
   "id": "eaf32df8",
   "metadata": {},
   "source": [
    "\n",
    "\n",
    "\n",
    "We go through the fundamentals of Python.\n",
    "\n",
    "Run the code block below by clicking the play-button to the left or by pressing Ctrl+Enter."
   ]
  },
  {
   "cell_type": "code",
   "execution_count": null,
   "id": "fa8c3d53",
   "metadata": {},
   "outputs": [],
   "source": [
    "print(\"Hello World\")"
   ]
  },
  {
   "cell_type": "markdown",
   "id": "f08669ee",
   "metadata": {},
   "source": [
    "#### You can make a newline in your print with \\n:"
   ]
  },
  {
   "cell_type": "code",
   "execution_count": null,
   "id": "e6558773",
   "metadata": {},
   "outputs": [],
   "source": [
    "print(\"Hello World\\nPython is easy\")"
   ]
  },
  {
   "cell_type": "markdown",
   "id": "19902ab6",
   "metadata": {},
   "source": [
    "## Section 1 - Basic Math Operations"
   ]
  },
  {
   "cell_type": "code",
   "execution_count": null,
   "id": "7245947c",
   "metadata": {},
   "outputs": [],
   "source": [
    "print(3 + 2)"
   ]
  },
  {
   "cell_type": "code",
   "execution_count": null,
   "id": "490dc6a8",
   "metadata": {},
   "outputs": [],
   "source": [
    "print(3 - 2)"
   ]
  },
  {
   "cell_type": "code",
   "execution_count": null,
   "id": "debab6ef",
   "metadata": {},
   "outputs": [],
   "source": [
    "print(3 * 2)"
   ]
  },
  {
   "cell_type": "code",
   "execution_count": null,
   "id": "51fad92a",
   "metadata": {},
   "outputs": [],
   "source": [
    "print(3 / 2)"
   ]
  },
  {
   "cell_type": "code",
   "execution_count": null,
   "id": "fb7083a2",
   "metadata": {},
   "outputs": [],
   "source": [
    "print(3 ** 2)"
   ]
  },
  {
   "cell_type": "markdown",
   "id": "ab46f998",
   "metadata": {},
   "source": [
    "## Section 2 - Variables and naming "
   ]
  },
  {
   "cell_type": "code",
   "execution_count": null,
   "id": "91783c5a",
   "metadata": {},
   "outputs": [],
   "source": [
    "x = 3\n",
    "y = 2.0\n",
    "\n",
    "z = x * y\n",
    "\n",
    "print(z)"
   ]
  },
  {
   "cell_type": "markdown",
   "id": "d0bfc041",
   "metadata": {},
   "source": [
    "#### Strings can also be variables:"
   ]
  },
  {
   "cell_type": "code",
   "execution_count": null,
   "id": "c2890d46",
   "metadata": {},
   "outputs": [],
   "source": [
    "greeting = \"Hello World!\"\n",
    "\n",
    "print(greeting)"
   ]
  },
  {
   "cell_type": "markdown",
   "id": "faa35a8e",
   "metadata": {},
   "source": [
    "#### What types of data does Python understand?"
   ]
  },
  {
   "cell_type": "code",
   "execution_count": null,
   "id": "08df8b50",
   "metadata": {},
   "outputs": [],
   "source": [
    "x = 3\n",
    "print(type(x))"
   ]
  },
  {
   "cell_type": "code",
   "execution_count": null,
   "id": "0b737ae7",
   "metadata": {},
   "outputs": [],
   "source": [
    "y = 2.0\n",
    "print(type(y))"
   ]
  },
  {
   "cell_type": "code",
   "execution_count": null,
   "id": "be2b1576",
   "metadata": {},
   "outputs": [],
   "source": [
    "z = x * y\n",
    "print(z)\n",
    "print(type(z))"
   ]
  },
  {
   "cell_type": "markdown",
   "id": "13b495eb",
   "metadata": {},
   "source": [
    "#### You cannot combine a string and an integer:"
   ]
  },
  {
   "cell_type": "code",
   "execution_count": null,
   "id": "6314ee5c",
   "metadata": {},
   "outputs": [],
   "source": [
    "x = \"Hello World\"\n",
    "y = 5\n",
    "\n",
    "z = x + y\n",
    "\n",
    "print(\"z =\", z)"
   ]
  },
  {
   "cell_type": "markdown",
   "id": "30c20492",
   "metadata": {},
   "source": [
    "#### Variable names: No spaces, æ ø å or special characters! Use _ for space "
   ]
  },
  {
   "cell_type": "markdown",
   "id": "490f9bac",
   "metadata": {},
   "source": [
    "#### Legal variable names:"
   ]
  },
  {
   "cell_type": "code",
   "execution_count": null,
   "id": "84fc7560",
   "metadata": {},
   "outputs": [],
   "source": [
    "myvar = \"John\"\n",
    "my_var = \"John\"\n",
    "_my_var = \"John\"\n",
    "myVar = \"John\"\n",
    "MYVAR = \"John\"\n",
    "myvar2 = \"John\""
   ]
  },
  {
   "cell_type": "markdown",
   "id": "73f12b78",
   "metadata": {},
   "source": [
    "#### Illegal variable names:"
   ]
  },
  {
   "cell_type": "code",
   "execution_count": null,
   "id": "433f15f1",
   "metadata": {},
   "outputs": [],
   "source": [
    "my-var = \"John\"\n",
    "my var = \"John\""
   ]
  },
  {
   "cell_type": "markdown",
   "id": "3d185992",
   "metadata": {},
   "source": [
    "## Section 3 - For loops"
   ]
  },
  {
   "cell_type": "markdown",
   "id": "f3ca7105",
   "metadata": {},
   "source": [
    "Often we want to do more than just one thing at a time. For this we can use for-loops.\n",
    "\n",
    "For-loops are done with the range(n) funtions. \n",
    "\n",
    "#### NOTE: Python counts from 0 and not 1! range(n) will give you all the numbers from 0 to 𝑛−1."
   ]
  },
  {
   "cell_type": "code",
   "execution_count": null,
   "id": "1d38ad97",
   "metadata": {},
   "outputs": [],
   "source": [
    "# Print all numbers from 0 to 19\n",
    "for i in range(20):\n",
    "  print(i)\n",
    "\n",
    "print(\"Does this get repeated?\")"
   ]
  },
  {
   "cell_type": "markdown",
   "id": "e467b624",
   "metadata": {},
   "source": [
    "#### Note how everything that is indented gets repeated by the for loop!"
   ]
  },
  {
   "cell_type": "markdown",
   "id": "14ffe897",
   "metadata": {},
   "source": [
    "#### How does range work?"
   ]
  },
  {
   "cell_type": "code",
   "execution_count": null,
   "id": "e3bead39",
   "metadata": {},
   "outputs": [],
   "source": [
    "# Convert the range to a list\n",
    "print( list(range(10)) )"
   ]
  },
  {
   "cell_type": "markdown",
   "id": "2d2b8543",
   "metadata": {},
   "source": [
    "#### Again notice that range() does not include the final number! \n",
    "\n",
    "\n",
    "#### You can start from any number, by using two optional arguments:"
   ]
  },
  {
   "cell_type": "code",
   "execution_count": null,
   "id": "5e39ccfb",
   "metadata": {},
   "outputs": [],
   "source": [
    "# Print from 10 to 20\n",
    "print( list(range(10, 21)) )"
   ]
  },
  {
   "cell_type": "markdown",
   "id": "84cc6e52",
   "metadata": {},
   "source": [
    "#### Why is this cool? We can make sums:\n",
    "\n",
    "\\begin{equation}\n",
    "k = \\sum_{n=0}^{19} i\n",
    "\\end{equation}"
   ]
  },
  {
   "cell_type": "code",
   "execution_count": null,
   "id": "daf9f800",
   "metadata": {},
   "outputs": [],
   "source": [
    "k = 0\n",
    "for i in range(20):\n",
    "  #print(i)\n",
    "  k = k + i\n",
    "\n",
    "print(\"k =\", k)"
   ]
  },
  {
   "cell_type": "markdown",
   "id": "3cc179e9",
   "metadata": {},
   "source": [
    "## Section 4 - Lists"
   ]
  },
  {
   "cell_type": "markdown",
   "id": "57816a85",
   "metadata": {},
   "source": [
    "Lists are a fundamental data structure of Python. A list contains a list of items, for example numbers. \n",
    "\n",
    "An example of a list with 7 items is given below:\n",
    "\n",
    "\\begin{array}{lrrrrrrr}\n",
    "\\texttt{i}  & 0  & 1 & 2 & 3 & 4 & 5 & 6 \\\\ \\hline\n",
    "\\texttt{my_list} & 3.5 & 2.1 & -2.5 & 1.2 & 6.2 & 5.2 & -8.1\n",
    "\\end{array}\n",
    "\n",
    "#### We can generate this list with:"
   ]
  },
  {
   "cell_type": "code",
   "execution_count": null,
   "id": "eaac9c01",
   "metadata": {},
   "outputs": [],
   "source": [
    "my_list = [3.5, 2.1, -2.5, 1.2, 6.2, 5.2, -8.1]\n",
    "print(my_list)"
   ]
  },
  {
   "cell_type": "markdown",
   "id": "2a67979b",
   "metadata": {},
   "source": [
    "#### Again be careful and note tha the first item in the list has the index $0$, and the last has the index $n-1$."
   ]
  },
  {
   "cell_type": "code",
   "execution_count": null,
   "id": "4534d077",
   "metadata": {},
   "outputs": [],
   "source": [
    "# The first item in the list\n",
    "print(my_list[0])\n",
    "\n",
    "# The \"third\" item in the list\n",
    "print(my_list[2])\n",
    "\n",
    "# The last item in the list\n",
    "print(my_list[6])"
   ]
  },
  {
   "cell_type": "markdown",
   "id": "0c6d324f",
   "metadata": {},
   "source": [
    "#### How many elements does our list contain? Use len():"
   ]
  },
  {
   "cell_type": "code",
   "execution_count": null,
   "id": "291a33a0",
   "metadata": {},
   "outputs": [],
   "source": [
    "# print length of that list\n",
    "print(len(my_list))"
   ]
  },
  {
   "cell_type": "code",
   "execution_count": null,
   "id": "62bd3022",
   "metadata": {},
   "outputs": [],
   "source": [
    "# Example 1: Print some_numbers\n",
    "for i in range(len(my_list)):\n",
    "  print(my_list[i])"
   ]
  },
  {
   "cell_type": "code",
   "execution_count": null,
   "id": "52167955",
   "metadata": {},
   "outputs": [],
   "source": [
    "# Example 2: Print some_numbers\n",
    "for n in my_list:\n",
    "  print(n)"
   ]
  },
  {
   "cell_type": "markdown",
   "id": "e82ca191",
   "metadata": {},
   "source": [
    "#### What happens if we ask for a missing element?"
   ]
  },
  {
   "cell_type": "code",
   "execution_count": null,
   "id": "6cb0c289",
   "metadata": {},
   "outputs": [],
   "source": [
    "my_list = [3.5, 2.1, -2.5, 1.2, 6.2, 5.2, -8.1]\n",
    "\n",
    "# Only up to 6 allowed!\n",
    "print(my_list[7])"
   ]
  },
  {
   "cell_type": "markdown",
   "id": "46da6c02",
   "metadata": {},
   "source": [
    "#### We can sum over items in a list\n",
    "\n",
    "\\begin{equation}\n",
    "y = \\sum_{i=0}^n x_i\n",
    "\\end{equation}"
   ]
  },
  {
   "cell_type": "code",
   "execution_count": null,
   "id": "1ab7e59e",
   "metadata": {},
   "outputs": [],
   "source": [
    "my_sum = 0\n",
    "\n",
    "for i in range(7):\n",
    "\n",
    "  print(i, my_list[i])\n",
    "  my_sum = my_sum + my_list[i]\n",
    "\n",
    "print(\"my_sum =\", my_sum)"
   ]
  },
  {
   "cell_type": "markdown",
   "id": "ea0c679e",
   "metadata": {},
   "source": [
    "## Section 5 - Common errors and debugging "
   ]
  },
  {
   "cell_type": "markdown",
   "id": "4142450b",
   "metadata": {},
   "source": [
    "Here are some common errors that you definately **will** encounter!"
   ]
  },
  {
   "cell_type": "markdown",
   "id": "2358be3c",
   "metadata": {},
   "source": [
    "#### Error 1:"
   ]
  },
  {
   "cell_type": "code",
   "execution_count": null,
   "id": "264dbce8",
   "metadata": {},
   "outputs": [],
   "source": [
    "k = 0\n",
    "\n",
    "# Sum all numbers from 0 to 9\n",
    "for i in range(10):\n",
    "  k = k + 1\n",
    "\n",
    " print(k)"
   ]
  },
  {
   "cell_type": "markdown",
   "id": "9b288053",
   "metadata": {},
   "source": [
    "#### Error 2:"
   ]
  },
  {
   "cell_type": "code",
   "execution_count": null,
   "id": "41b26b7d",
   "metadata": {},
   "outputs": [],
   "source": [
    "my_list = [1.0, 2.0, 3.0, 4.0, 5.0]\n",
    "\n",
    "print(\"Length of list:\", len(my_list))\n",
    "\n",
    "print(my_list[1])\n",
    "print(my_list[2])\n",
    "print(my_list[3])\n",
    "print(my_list[4])\n",
    "print(my_list[5])"
   ]
  },
  {
   "cell_type": "markdown",
   "id": "0bafa78c",
   "metadata": {},
   "source": [
    "#### Error 3:"
   ]
  },
  {
   "cell_type": "code",
   "execution_count": null,
   "id": "f510126e",
   "metadata": {},
   "outputs": [],
   "source": [
    "# Error 3:\n",
    "\n",
    "y = [3.5, 2.1, -2.5, 1.2, 6.2, 5.2, -8.1]\n",
    "\n",
    "# print y\n",
    "print(y)\n",
    "\n",
    "# print second entry in y\n",
    "print(y(2)\n",
    "\n",
    "print(\"Done!\")"
   ]
  },
  {
   "cell_type": "markdown",
   "id": "070e252d",
   "metadata": {},
   "source": [
    "#### Error 4:"
   ]
  },
  {
   "cell_type": "code",
   "execution_count": null,
   "id": "6a28e581",
   "metadata": {},
   "outputs": [],
   "source": [
    "for i in range(10)\n",
    "    print(i)\n",
    "\n",
    "print \"Done!\""
   ]
  },
  {
   "cell_type": "markdown",
   "id": "248e4e99",
   "metadata": {},
   "source": [
    "## Section 6 - Defining functions\n",
    "\n",
    "Numpy has some in-build functions such as the exponential function:\n",
    "\n",
    "\\begin{equation}\n",
    "f(x) = e^{x}\n",
    "\\end{equation}"
   ]
  },
  {
   "cell_type": "code",
   "execution_count": null,
   "id": "bf3adaeb",
   "metadata": {},
   "outputs": [],
   "source": [
    "import numpy as np\n",
    "\n",
    "e = np.exp(1.0)\n",
    "\n",
    "print(e)"
   ]
  },
  {
   "cell_type": "markdown",
   "id": "9d9c04e1",
   "metadata": {},
   "source": [
    "#### We can also define the functions ourself:"
   ]
  },
  {
   "cell_type": "code",
   "execution_count": null,
   "id": "bcd30629",
   "metadata": {},
   "outputs": [],
   "source": [
    "def square(x):\n",
    "  f = x**2\n",
    "  return f\n",
    "\n",
    "print(square(2))"
   ]
  },
  {
   "cell_type": "markdown",
   "id": "ee79525a",
   "metadata": {},
   "source": [
    "#### This can become arbitrarily complex:  \n",
    "\n",
    "\\begin{equation}\n",
    "f(x) = \\sum_{n=0}^{10} x^{n}\n",
    "\\end{equation}"
   ]
  },
  {
   "cell_type": "code",
   "execution_count": null,
   "id": "44345e39",
   "metadata": {},
   "outputs": [],
   "source": [
    "def power_sum(x):\n",
    "\n",
    "  f = 0\n",
    "\n",
    "  for n in range(11):\n",
    "    f = f + x**n\n",
    "    \n",
    "  return f\n",
    "\n",
    "print(power_sum(1))\n",
    "print(power_sum(11))"
   ]
  },
  {
   "cell_type": "markdown",
   "id": "7b721d24",
   "metadata": {},
   "source": [
    "#### A common error when defining functions. What is wrong here?"
   ]
  },
  {
   "cell_type": "code",
   "execution_count": null,
   "id": "41df5dfe",
   "metadata": {},
   "outputs": [],
   "source": [
    "def cubed(x):\n",
    "  f = x**3\n",
    "  \n",
    "print(cubed(3))"
   ]
  },
  {
   "cell_type": "code",
   "execution_count": null,
   "id": "b06820b7",
   "metadata": {},
   "outputs": [],
   "source": []
  },
  {
   "cell_type": "code",
   "execution_count": null,
   "id": "fda5efbd",
   "metadata": {},
   "outputs": [],
   "source": []
  },
  {
   "cell_type": "code",
   "execution_count": null,
   "id": "131ba86c",
   "metadata": {},
   "outputs": [],
   "source": []
  },
  {
   "cell_type": "code",
   "execution_count": null,
   "id": "ff1be496",
   "metadata": {},
   "outputs": [],
   "source": []
  }
 ],
 "metadata": {
  "kernelspec": {
   "display_name": "Python 3 (ipykernel)",
   "language": "python",
   "name": "python3"
  },
  "language_info": {
   "codemirror_mode": {
    "name": "ipython",
    "version": 3
   },
   "file_extension": ".py",
   "mimetype": "text/x-python",
   "name": "python",
   "nbconvert_exporter": "python",
   "pygments_lexer": "ipython3",
   "version": "3.9.10"
  }
 },
 "nbformat": 4,
 "nbformat_minor": 5
}
