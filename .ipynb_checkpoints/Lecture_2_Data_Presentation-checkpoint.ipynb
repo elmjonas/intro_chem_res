{
 "cells": [
  {
   "cell_type": "markdown",
   "id": "731a8d10",
   "metadata": {
    "id": "731a8d10"
   },
   "source": [
    "# Lecture 2 - Data Presentation\n",
    "\n",
    "Heavily inspired by a my colleague Anders S. Christensen. Check out his github intros for yourself!\n",
    "\n",
    "https://github.com/andersx/python-intro\n",
    "\n",
    "Matplotlib examples are from the Matplotlib website."
   ]
  },
  {
   "cell_type": "markdown",
   "id": "-4t4Wr9GeBQp",
   "metadata": {
    "id": "-4t4Wr9GeBQp"
   },
   "source": [
    "## Section 0 - A note on numpy"
   ]
  },
  {
   "cell_type": "markdown",
   "id": "vlT99KNcdFuj",
   "metadata": {
    "id": "vlT99KNcdFuj"
   },
   "source": [
    "Most external packages and actual data handling is not done using pure python but rather the much faster package \"Numpy\". Numpy uses its own version of list which work a bit differently to the normal python lists. The most important property is that the arithmetic operators work on elements/element wise instead of the entire list. To see how the other functions work check this cheat sheet: https://assets.datacamp.com/blog_assets/Numpy_Python_Cheat_Sheet.pdf"
   ]
  },
  {
   "cell_type": "code",
   "execution_count": null,
   "id": "iD4V_sLdd1V4",
   "metadata": {
    "colab": {
     "base_uri": "https://localhost:8080/"
    },
    "id": "iD4V_sLdd1V4",
    "outputId": "0f750be9-9cc6-4080-b98d-03a11246db2b"
   },
   "outputs": [],
   "source": [
    "import numpy as np\n",
    "python_list_a = [1,3,4]\n",
    "python_list_b = [8,8,8]\n",
    "numpy_array_a = np.array([1,3,4])\n",
    "numpy_array_b = np.array([8,8,8])\n",
    "print('Adding:')\n",
    "print(python_list_a+python_list_b)\n",
    "print(numpy_array_a+numpy_array_b)\n",
    "print('Doing math:')\n",
    "print(python_list_a*3)\n",
    "print(numpy_array_a*3)"
   ]
  },
  {
   "cell_type": "markdown",
   "id": "a1502be4",
   "metadata": {
    "id": "a1502be4"
   },
   "source": [
    "## Section 1 - Linear Least Squares Regression"
   ]
  },
  {
   "cell_type": "markdown",
   "id": "a4ad55f0",
   "metadata": {
    "id": "a4ad55f0"
   },
   "source": [
    "First, lets start with some data for a linear function:\n",
    "\\begin{equation}\n",
    "y = 1.2x + \\mathrm{noise}\n",
    "\\end{equation}"
   ]
  },
  {
   "cell_type": "code",
   "execution_count": null,
   "id": "ac3b98ca",
   "metadata": {
    "colab": {
     "base_uri": "https://localhost:8080/"
    },
    "id": "ac3b98ca",
    "outputId": "2059ebaf-cdcf-427e-9c5d-273ba889ad74"
   },
   "outputs": [],
   "source": [
    "import numpy as np\n",
    "\n",
    "np.random.seed(666)\n",
    "\n",
    "# X-values\n",
    "x = np.arange(0,20.0, 0.2) #arange is numpys version of range which allows for floats.\n",
    "\n",
    "# Y-values: Y = 1.2*X + random noise\n",
    "y = 1.2 * x + np.random.normal(scale=2.0, size=len(x))\n",
    "\n",
    "print(x.shape) #Prints the size of the array\n",
    "print(y.shape)"
   ]
  },
  {
   "cell_type": "markdown",
   "id": "d8002bbd",
   "metadata": {
    "id": "d8002bbd"
   },
   "source": [
    "#### Let's try to plot the data using matplotlib package:\n",
    "* Pretty much all the plot types avaiable in the matplotlib package uses the same syntax as the scatter plot.\n",
    "* Feel free to change to parameters to learn what they do.\n"
   ]
  },
  {
   "cell_type": "code",
   "execution_count": null,
   "id": "b70717ed",
   "metadata": {
    "colab": {
     "base_uri": "https://localhost:8080/",
     "height": 472
    },
    "id": "b70717ed",
    "outputId": "da55235a-7774-4627-afe5-12c5f63eaa44"
   },
   "outputs": [],
   "source": [
    "import matplotlib.pyplot as plt\n",
    "\n",
    "plt.scatter(x, y, marker='.', color='black', label='Training data')\n",
    "plt.plot(x, x*1.2, color='red', label=\"Truth\")\n",
    "plt.xlabel('x', size=10, weight='bold')\n",
    "plt.ylabel('y', size=10, weight='bold')\n",
    "plt.grid(True)\n",
    "plt.title('Linear Regression', size=12, weight='bold')\n",
    "plt.legend()\n",
    "plt.show()"
   ]
  },
  {
   "cell_type": "markdown",
   "id": "964a6f6d",
   "metadata": {
    "id": "964a6f6d"
   },
   "source": [
    "#### We now want to fit a linear regression model to the data using the scipy package:"
   ]
  },
  {
   "cell_type": "code",
   "execution_count": null,
   "id": "93c05bd3",
   "metadata": {
    "id": "93c05bd3"
   },
   "outputs": [],
   "source": [
    "import scipy.optimize as sco"
   ]
  },
  {
   "cell_type": "markdown",
   "id": "S3Fm-tll2WRo",
   "metadata": {
    "id": "S3Fm-tll2WRo"
   },
   "source": [
    "Let's define the function we want to fit (Note it is important that the FIRST variable is the independant variable x)"
   ]
  },
  {
   "cell_type": "code",
   "execution_count": null,
   "id": "9aa627c3",
   "metadata": {
    "id": "9aa627c3"
   },
   "outputs": [],
   "source": [
    "def func(x, m, b):\n",
    "    y = m * x + b\n",
    "    return y"
   ]
  },
  {
   "cell_type": "markdown",
   "id": "coC_bAYo2wTu",
   "metadata": {
    "id": "coC_bAYo2wTu"
   },
   "source": [
    "Let's try to fit it, make sure to have matching variables in the func and for the output."
   ]
  },
  {
   "cell_type": "code",
   "execution_count": null,
   "id": "584bee16",
   "metadata": {
    "id": "584bee16"
   },
   "outputs": [],
   "source": [
    "(m, b), var = sco.curve_fit(func, x, y)"
   ]
  },
  {
   "cell_type": "code",
   "execution_count": null,
   "id": "9f39d35b",
   "metadata": {
    "id": "9f39d35b"
   },
   "outputs": [],
   "source": [
    "residuals = y - func(x, m, b)\n",
    "ss_res = np.sum(residuals**2)\n",
    "ss_tot = np.sum((y - np.mean(y))**2)\n",
    "R2 = 1 - (ss_res / ss_tot)"
   ]
  },
  {
   "cell_type": "markdown",
   "id": "OksuTU_F2_B0",
   "metadata": {
    "id": "OksuTU_F2_B0"
   },
   "source": [
    "Finally the plot:"
   ]
  },
  {
   "cell_type": "code",
   "execution_count": null,
   "id": "8115471d",
   "metadata": {
    "colab": {
     "base_uri": "https://localhost:8080/",
     "height": 472
    },
    "id": "8115471d",
    "outputId": "3b8bc590-5ae2-4ecb-e5cf-2fff88a67ef0"
   },
   "outputs": [],
   "source": [
    "plt.scatter(x, y, marker='.', color='black', label='Training data')\n",
    "plt.plot(x, func(x, m, b), color='red', label=f'fit: R2={R2:.2f}% m={m:.4f} b={b:.4f}')\n",
    "plt.xlabel('x', size=10, weight='bold')\n",
    "plt.ylabel('y', size=10, weight='bold')\n",
    "plt.grid(True)\n",
    "plt.title('Linear Regression', size=12, weight='bold')\n",
    "plt.legend()\n",
    "plt.show()"
   ]
  },
  {
   "cell_type": "markdown",
   "id": "df6a0c2c",
   "metadata": {
    "id": "df6a0c2c"
   },
   "source": [
    "### What does linear regression do?\n",
    "\n",
    "It is an approximation to a linear function:\n",
    "\n",
    "\\begin{equation}\n",
    "y(\\mathbf{x}) = x_1 \\alpha_1 + x_2 \\alpha_2 + \\dots + x_n \\alpha_n\n",
    "\\end{equation}\n",
    "This can conviently be written in vector notation:\n",
    "\\begin{equation}\n",
    "y(\\mathbf{x}) = \\mathbf{x} \\cdot \\mathbf{\\alpha}\n",
    "\\end{equation}\n",
    "\n",
    "Where $\\mathbf{x}$ is our feature vector/descriptor/representation for a given datapoint. $\\mathbf{\\alpha}$ is the vector of regression coefficients.\n",
    "\n",
    "\"Fitting\" is what you do to find the best set of $\\alpha$-values. This is done by finding the solution with the \"least squares\":\n",
    "\n",
    "\\begin{equation}\n",
    "\\mathbf{y} = \\mathbf{X}\\mathbf{\\alpha}\n",
    "\\end{equation}\n",
    "\n",
    "Minimze the error:\n",
    "\\begin{equation}\n",
    "\\mathbf{\\alpha} = \\text{arg min} || \\mathbf{y}^\\text{ref} - \\mathbf{X}\\mathbf{\\alpha}||^2\n",
    "\\end{equation}"
   ]
  },
  {
   "cell_type": "markdown",
   "id": "02f67dc5",
   "metadata": {
    "id": "02f67dc5"
   },
   "source": [
    "## Section 2 - Non-linear regression?\n",
    "If we have some theory for the function parameters, sco.curve_fit can also be used to do non-linear least squares. All we have to do is make sure that the function takes the independant variable as the first input parameter and we have matching number of parameters for th output of the fit function.\n",
    "We have a and b in our function, thus sco.curve_fit requires (a,b) to the store the variables. This example shows the power of python, we can easily plot and fit any function we want!"
   ]
  },
  {
   "cell_type": "code",
   "execution_count": null,
   "id": "8be0c8b7",
   "metadata": {
    "colab": {
     "base_uri": "https://localhost:8080/",
     "height": 447
    },
    "id": "8be0c8b7",
    "outputId": "5b2d9f8c-6372-46ef-b24a-b5c6a8b12507"
   },
   "outputs": [],
   "source": [
    "import numpy as np\n",
    "import matplotlib.pyplot as plt\n",
    "\n",
    "\n",
    "x = np.arange(0,6.6, 0.6)\n",
    "y = 3*np.sin(x+7) + (np.random.random(size=len(x)) - 0.5) * 0.5\n",
    "\n",
    "def func(x,a,b):\n",
    "  return a*np.sin(x+b)\n",
    "\n",
    "xplot = np.arange(0,6.6, 0.01)\n",
    "\n",
    "(a,b), var = sco.curve_fit(func, x, y)\n",
    "print(a,b)\n",
    "\n",
    "plt.scatter(x, y, label=\"Training\")\n",
    "plt.plot(xplot, 3*np.sin(xplot+7), color=\"g\", label=\"sin(x)\")\n",
    "plt.plot(xplot, func(xplot,a,b), color=\"b\", label=\"fit\")\n",
    "\n",
    "plt.legend()\n",
    "plt.show()"
   ]
  },
  {
   "cell_type": "markdown",
   "id": "90225560",
   "metadata": {
    "id": "90225560"
   },
   "source": [
    "#### However, what if we do not know what the function looks like ? This is a job for machine learning! There is a very cool example (machine_learning_example_sinx.ipynb) at https://github.com/andersx/python-intro"
   ]
  },
  {
   "cell_type": "markdown",
   "id": "05388782",
   "metadata": {
    "id": "05388782"
   },
   "source": [
    "## Section 3 - Plotting types\n",
    "\n",
    "Can everything be nicely plotted as a linear function?\n",
    "\n",
    "What about multivariable data sets?\n",
    "\n",
    "What should I choose?"
   ]
  },
  {
   "cell_type": "markdown",
   "id": "5088f746",
   "metadata": {
    "id": "5088f746"
   },
   "source": [
    "## Histograms\n",
    "\n",
    "Example taken from matpotlib documentation."
   ]
  },
  {
   "cell_type": "code",
   "execution_count": null,
   "id": "9be1f760",
   "metadata": {
    "colab": {
     "base_uri": "https://localhost:8080/",
     "height": 487
    },
    "id": "9be1f760",
    "outputId": "32ac191c-6911-4053-bc92-5ca7ae8e46d6"
   },
   "outputs": [],
   "source": [
    "import matplotlib\n",
    "import numpy as np\n",
    "import matplotlib.pyplot as plt\n",
    "\n",
    "np.random.seed(19680801)\n",
    "\n",
    "# example data\n",
    "mu = 100  # mean of distribution\n",
    "sigma = 15  # standard deviation of distribution\n",
    "x = mu + sigma * np.random.randn(437)\n",
    "\n",
    "num_bins = 50\n",
    "\n",
    "# the histogram of the data\n",
    "n, bins, patches = plt.hist(x, num_bins, density=1)\n",
    "\n",
    "# add a 'best fit' line\n",
    "y = ((1 / (np.sqrt(2 * np.pi) * sigma)) *\n",
    "     np.exp(-0.5 * (1 / sigma * (bins - mu))**2))\n",
    "plt.plot(bins, y, '--')\n",
    "plt.xlabel('Smarts')\n",
    "plt.ylabel('Probability density')\n",
    "plt.title(r'Histogram of IQ: $\\mu=100$, $\\sigma=15$')\n",
    "\n",
    "# Tweak spacing to prevent clipping of ylabel\n",
    "plt.tight_layout()\n",
    "plt.show()"
   ]
  },
  {
   "cell_type": "markdown",
   "id": "2c6aa5bc",
   "metadata": {
    "id": "2c6aa5bc"
   },
   "source": [
    "## Box plots, violin plots and multiplots\n",
    "Example based on matpotlib documentation. When combining multiple plots into one graph, people usually use plt.subplot. However, matplotlib have introduced a much more powerfull multigraphing function called subplot_mosaic: https://matplotlib.org/stable/gallery/text_labels_and_annotations/label_subplots.html#sphx-glr-gallery-text-labels-and-annotations-label-subplots-py"
   ]
  },
  {
   "cell_type": "code",
   "execution_count": null,
   "id": "06e2030f",
   "metadata": {
    "colab": {
     "base_uri": "https://localhost:8080/",
     "height": 628
    },
    "id": "06e2030f",
    "outputId": "eb29c404-17a7-4cba-af49-dc3649d96e59"
   },
   "outputs": [],
   "source": [
    "import matplotlib.pyplot as plt\n",
    "import numpy as np\n",
    "\n",
    "fig, axes = plt.subplot_mosaic([['left','right'],\n",
    "                                ['left','right'],\n",
    "                                ['bottom','bottom'],\n",
    "                                ['bottom','bottom']],\n",
    "                                layout='constrained',\n",
    "                                figsize=(6,6))\n",
    "\n",
    "# Fixing random state for reproducibility\n",
    "np.random.seed(19680801)\n",
    "\n",
    "\n",
    "# generate some random test data\n",
    "all_data = [np.random.normal(0, std, 100) for std in range(6, 10)]\n",
    "\n",
    "# plot violin plot\n",
    "axes['left'].violinplot(all_data,\n",
    "                   showmeans=False,\n",
    "                   showmedians=True)\n",
    "axes['left'].set_title('Violin plot')\n",
    "\n",
    "# plot box plot\n",
    "axes['right'].boxplot(all_data)\n",
    "axes['right'].set_title('Box plot')\n",
    "\n",
    "# plot both\n",
    "axes['bottom'].violinplot(all_data,\n",
    "                   showmeans=False,\n",
    "                   showmedians=False,\n",
    "                   showextrema=False)\n",
    "axes['bottom'].boxplot(all_data)\n",
    "axes['bottom'].set_title('Combined')\n",
    "\n",
    "# adding horizontal grid lines\n",
    "for ax in axes:\n",
    "    axes[ax].yaxis.grid(True)\n",
    "    axes[ax].set_xticks([y + 1 for y in range(len(all_data))])\n",
    "    axes[ax].set_xticklabels(['x1', 'x2', 'x3', 'x4'])\n",
    "    axes[ax].set_xlabel('Four separate samples')\n",
    "    axes[ax].set_ylabel('Observed values')\n",
    "\n",
    "plt.show()"
   ]
  },
  {
   "cell_type": "markdown",
   "id": "SwHZ1vbv_re-",
   "metadata": {
    "id": "SwHZ1vbv_re-"
   },
   "source": [
    "## Bar plots"
   ]
  },
  {
   "cell_type": "code",
   "execution_count": null,
   "id": "OUh37RkkLA2s",
   "metadata": {
    "colab": {
     "base_uri": "https://localhost:8080/",
     "height": 466
    },
    "id": "OUh37RkkLA2s",
    "outputId": "504727ee-49fc-48a9-fc53-bfbad4fe7ec5"
   },
   "outputs": [],
   "source": [
    "grade_counts = [0,0,2,5,6,2,3]\n",
    "grade_names = ['-3','00','02','4','7','10','12']\n",
    "plt.bar(grade_names,grade_counts, color='red', label = 'Grades')\n",
    "plt.xlabel('Grade')\n",
    "plt.ylabel('#')\n",
    "plt.legend()"
   ]
  },
  {
   "cell_type": "markdown",
   "id": "kDx7iuSEMeCc",
   "metadata": {
    "id": "kDx7iuSEMeCc"
   },
   "source": [
    "##Advanced plots\n",
    "Let's say we want to make a bar plot with four categories and some custome labels, colors and ticks? Let's try some more advanced techniques to automate it!"
   ]
  },
  {
   "cell_type": "code",
   "execution_count": null,
   "id": "zf4A53KoMdqK",
   "metadata": {
    "colab": {
     "base_uri": "https://localhost:8080/",
     "height": 486
    },
    "id": "zf4A53KoMdqK",
    "outputId": "d48a7716-8643-487c-9232-cc00acfec79f"
   },
   "outputs": [],
   "source": [
    "import numpy as np\n",
    "import matplotlib.pyplot as plt\n",
    "\n",
    "# Fixing random state for reproducibility\n",
    "np.random.seed(19680801)\n",
    "\n",
    "# generate some random test data\n",
    "mediums = ['Elephants', 'Cows', 'Horses', 'Ducks']\n",
    "categories = ['Local pizza shop', 'Ikea', 'Meny', 'Lego store']\n",
    "colors = ['#a1dab4', '#41b6c4', '#2c7fb8', '#253494']\n",
    "data = [abs(np.random.normal(0, 1, len(categories))) for _ in range(len(mediums))]\n",
    "bar_width = 1 * 0.9 / len(mediums)  # We want some space between the groups\n",
    "index_category = np.arange(len(categories))\n",
    "index_medium = np.arange(len(mediums))\n",
    "# Zip packs the values elementwise into a list of tuples, we can then unpack them again in pairs\n",
    "for (idx, current_data, current_medium, current_color) in zip(index_medium, data, mediums, colors):\n",
    "    plt.bar(index_category + bar_width * idx, current_data, width=bar_width, label=current_medium, color=current_color)\n",
    "\n",
    "plt.xticks(index_category + bar_width * (len(mediums) / 2 - 1 / 2), categories, rotation=50, ha='right', rotation_mode=\"anchor\")\n",
    "plt.ylabel('Number of pets observed per year \\n [Average over 50 years]')\n",
    "plt.legend()\n",
    "plt.title(r'Matplotlib also supports LaTeX: $3x^2=\\int_{3}^{7}x~\\mathrm{d}x$')\n",
    "plt.tight_layout()\n",
    "plt.show()\n"
   ]
  },
  {
   "cell_type": "markdown",
   "id": "TV4hi4NPeg4d",
   "metadata": {
    "id": "TV4hi4NPeg4d"
   },
   "source": [
    "## Section 4 - Working with data\n",
    "When doing chemistry we often collect lots of data. Usually in the form of spreadsheets. Python has a nice package called Pandas for handling these sorts of data collections. Let's try to load a spreadsheet file. Pandas can load excel sheets using the pandas.read_excel function but we will be using a comma sperated csv file today."
   ]
  },
  {
   "cell_type": "code",
   "execution_count": null,
   "id": "dvvYp-O6fTk6",
   "metadata": {
    "id": "dvvYp-O6fTk6"
   },
   "outputs": [],
   "source": [
    "import pandas as pd\n",
    "df = pd.read_csv('https://raw.githubusercontent.com/elmjonas/intro_chem_res/main/MD.csv')"
   ]
  },
  {
   "cell_type": "markdown",
   "id": "wKDffWrXf30P",
   "metadata": {
    "id": "wKDffWrXf30P"
   },
   "source": [
    "When we load our data we create a Pandas dataframe. You can index the columns like a dictonary and the extracted data series have most of the same functionality as Numpy arrays. Let's try to show the dataframe!"
   ]
  },
  {
   "cell_type": "code",
   "execution_count": null,
   "id": "o5fV6z5ugLGc",
   "metadata": {
    "colab": {
     "base_uri": "https://localhost:8080/",
     "height": 1000
    },
    "id": "o5fV6z5ugLGc",
    "outputId": "5add33bb-0d01-4b5d-f91b-fba92fb47539"
   },
   "outputs": [],
   "source": [
    "df"
   ]
  },
  {
   "cell_type": "markdown",
   "id": "Rqn6VTWxg380",
   "metadata": {
    "id": "Rqn6VTWxg380"
   },
   "source": [
    "Get some statistics"
   ]
  },
  {
   "cell_type": "code",
   "execution_count": null,
   "id": "JcyBW-LAgLp7",
   "metadata": {
    "colab": {
     "base_uri": "https://localhost:8080/",
     "height": 300
    },
    "id": "JcyBW-LAgLp7",
    "outputId": "e24e03fc-45a8-49da-db38-62e0542d3ce2"
   },
   "outputs": [],
   "source": [
    "df.describe()"
   ]
  },
  {
   "cell_type": "markdown",
   "id": "Oq1D9lJvhdSk",
   "metadata": {
    "id": "Oq1D9lJvhdSk"
   },
   "source": [
    "Extract the row at time=12.5"
   ]
  },
  {
   "cell_type": "code",
   "execution_count": null,
   "id": "Z0WGUjP2hh40",
   "metadata": {
    "colab": {
     "base_uri": "https://localhost:8080/",
     "height": 81
    },
    "id": "Z0WGUjP2hh40",
    "outputId": "083520d6-d97d-4a16-f707-94ed4202498e"
   },
   "outputs": [],
   "source": [
    "df.loc[df['time']==12.5]"
   ]
  },
  {
   "cell_type": "markdown",
   "id": "lFd8lJ5NiKcP",
   "metadata": {
    "id": "lFd8lJ5NiKcP"
   },
   "source": [
    "Or maybe just the B97 energy at time 12.5"
   ]
  },
  {
   "cell_type": "code",
   "execution_count": null,
   "id": "sbxZtvxshm3W",
   "metadata": {
    "colab": {
     "base_uri": "https://localhost:8080/"
    },
    "id": "sbxZtvxshm3W",
    "outputId": "ae218319-d1d7-478e-d54f-886c7583fbfd"
   },
   "outputs": [],
   "source": [
    "df.loc[df['time']==12.5, 'B97']"
   ]
  },
  {
   "cell_type": "markdown",
   "id": "Wkd8232Mkxfx",
   "metadata": {
    "id": "Wkd8232Mkxfx"
   },
   "source": [
    "Pandas has inbuilt plotting functions but we prefer doing data handling with Pandas and the plotting with matplotlib."
   ]
  },
  {
   "cell_type": "code",
   "execution_count": null,
   "id": "557IbsKzk9WH",
   "metadata": {
    "colab": {
     "base_uri": "https://localhost:8080/",
     "height": 645
    },
    "id": "557IbsKzk9WH",
    "outputId": "7eb11684-a7e1-4fc8-9573-c083a73ef5ff"
   },
   "outputs": [],
   "source": [
    "import matplotlib.pyplot as plt\n",
    "B97_energy = (df['B97']-df.loc[df['time']==0, 'B97'].values)*627.503\n",
    "OLD_energy = (df['OLD']-df['OLD'][0])*627.503 #Alternativ way since we know the first position is at time = 0\n",
    "NEW_energy = (df['NEW']-df['NEW'][0])*627.503\n",
    "time = df['time']\n",
    "\n",
    "\n",
    "\n",
    "fig, axes = plt.subplot_mosaic([['left','right'],\n",
    "                                ['left','right'],\n",
    "                                ['bottom','bottom'],\n",
    "                                ['bottom','bottom']],\n",
    "                                layout='constrained',\n",
    "                                figsize=(6,6))\n",
    "\n",
    "axes['bottom'].plot(time,B97_energy,'.--',label='B97-3c',color='black')\n",
    "axes['bottom'].plot(time,OLD_energy,'.--',label='Old method',color='red')\n",
    "axes['bottom'].plot(time,NEW_energy,'.--',label='New method',color='blue')\n",
    "axes['bottom'].legend()\n",
    "axes['bottom'].set_xlabel('Time [fs]')\n",
    "axes['bottom'].set_ylabel('Energy [kcal/mol]')\n",
    "\n",
    "#Old correlation plot\n",
    "old_correlation=B97_energy.corr(OLD_energy)\n",
    "axes['left'].plot(OLD_energy,B97_energy,'.',color='red')\n",
    "axes['left'].axline((0,0),slope=1,color='black',linestyle=\"--\")\n",
    "axes['left'].set_ylabel('Energy of B97-3c [kcal/mol]')\n",
    "axes['left'].set_xlabel('Energy of old method [kcal/mol]')\n",
    "axes['left'].set_title(f'PCC={old_correlation:.2f}')\n",
    "\n",
    "#New correlation plot\n",
    "new_correlation=B97_energy.corr(NEW_energy)\n",
    "axes['right'].plot(NEW_energy,B97_energy,'.',color='blue')\n",
    "axes['right'].axline((0,0),slope=1,color='black',linestyle=\"--\")\n",
    "axes['right'].set_xlabel('Energy of new method [kcal/mol]')\n",
    "axes['right'].set_yticks([])\n",
    "axes['right'].set_title(f'PCC={new_correlation:.2f}')\n",
    "\n"
   ]
  }
 ],
 "metadata": {
  "colab": {
   "provenance": []
  },
  "kernelspec": {
   "display_name": "Python 3 (ipykernel)",
   "language": "python",
   "name": "python3"
  },
  "language_info": {
   "codemirror_mode": {
    "name": "ipython",
    "version": 3
   },
   "file_extension": ".py",
   "mimetype": "text/x-python",
   "name": "python",
   "nbconvert_exporter": "python",
   "pygments_lexer": "ipython3",
   "version": "3.9.10"
  }
 },
 "nbformat": 4,
 "nbformat_minor": 5
}
