{
 "cells": [
  {
   "cell_type": "markdown",
   "id": "db151c3a",
   "metadata": {
    "id": "db151c3a"
   },
   "source": [
    "# Lecture 1 - Introduction to Python\n",
    "\n",
    "Heavily inspired by a my colleague Anders S. Christensen. Check out his github intros for yourself!\n",
    "\n",
    "https://github.com/andersx/python-intro\n",
    "\n",
    "Developed in collaboration with Yosef Knattrup"
   ]
  },
  {
   "cell_type": "markdown",
   "id": "eaf32df8",
   "metadata": {
    "id": "eaf32df8"
   },
   "source": [
    "\n",
    "\n",
    "\n",
    "We go through the fundamentals of Python.\n",
    "\n",
    "#### Run the code block below by clicking the play-button to the left or by pressing Ctrl+Enter."
   ]
  },
  {
   "cell_type": "code",
   "execution_count": null,
   "id": "fa8c3d53",
   "metadata": {
    "id": "fa8c3d53"
   },
   "outputs": [],
   "source": [
    "print(\"Hello World\")"
   ]
  },
  {
   "cell_type": "markdown",
   "id": "f08669ee",
   "metadata": {
    "id": "f08669ee"
   },
   "source": [
    "#### You can make a newline in your print with \\n:"
   ]
  },
  {
   "cell_type": "code",
   "execution_count": null,
   "id": "e6558773",
   "metadata": {
    "colab": {
     "base_uri": "https://localhost:8080/"
    },
    "id": "e6558773",
    "outputId": "3a78c2cf-caf8-4488-cc98-4856cb317fd0"
   },
   "outputs": [],
   "source": [
    "print(\"Hello World\\nPython is easy\")"
   ]
  },
  {
   "cell_type": "markdown",
   "id": "PpA4fgXJ6pNN",
   "metadata": {
    "id": "PpA4fgXJ6pNN"
   },
   "source": [
    "#### Or alternatively use double print:"
   ]
  },
  {
   "cell_type": "code",
   "execution_count": null,
   "id": "gcCeCzUI6tSy",
   "metadata": {
    "colab": {
     "base_uri": "https://localhost:8080/"
    },
    "id": "gcCeCzUI6tSy",
    "outputId": "db3d9869-0dd6-4891-9567-b34e8742263f"
   },
   "outputs": [],
   "source": [
    "print(\"Hello world\")\n",
    "print(\"Python is easy\")"
   ]
  },
  {
   "cell_type": "markdown",
   "id": "19902ab6",
   "metadata": {
    "id": "19902ab6"
   },
   "source": [
    "## Section 1 - Basic Math Operations"
   ]
  },
  {
   "cell_type": "code",
   "execution_count": null,
   "id": "7245947c",
   "metadata": {
    "id": "7245947c"
   },
   "outputs": [],
   "source": [
    "print(3 + 2)"
   ]
  },
  {
   "cell_type": "code",
   "execution_count": null,
   "id": "490dc6a8",
   "metadata": {
    "id": "490dc6a8"
   },
   "outputs": [],
   "source": [
    "print(3 - 2)"
   ]
  },
  {
   "cell_type": "code",
   "execution_count": null,
   "id": "debab6ef",
   "metadata": {
    "id": "debab6ef"
   },
   "outputs": [],
   "source": [
    "print(3 * 2)"
   ]
  },
  {
   "cell_type": "code",
   "execution_count": null,
   "id": "51fad92a",
   "metadata": {
    "id": "51fad92a"
   },
   "outputs": [],
   "source": [
    "print(3 / 2)"
   ]
  },
  {
   "cell_type": "code",
   "execution_count": null,
   "id": "fb7083a2",
   "metadata": {
    "colab": {
     "base_uri": "https://localhost:8080/"
    },
    "id": "fb7083a2",
    "outputId": "02ac2e90-e484-49ef-f2bf-94dbd4120c81"
   },
   "outputs": [],
   "source": [
    "print(3 ** 2)"
   ]
  },
  {
   "cell_type": "markdown",
   "id": "ab46f998",
   "metadata": {
    "id": "ab46f998"
   },
   "source": [
    "## Section 2 - Variables and naming"
   ]
  },
  {
   "cell_type": "code",
   "execution_count": null,
   "id": "91783c5a",
   "metadata": {
    "colab": {
     "base_uri": "https://localhost:8080/"
    },
    "id": "91783c5a",
    "outputId": "8afc6e01-65cf-4614-9961-08f5d565e5b2"
   },
   "outputs": [],
   "source": [
    "x = 3\n",
    "y = 2.0\n",
    "\n",
    "z = x * y\n",
    "\n",
    "print(z)"
   ]
  },
  {
   "cell_type": "markdown",
   "id": "d0bfc041",
   "metadata": {
    "id": "d0bfc041"
   },
   "source": [
    "#### Strings can also be variables:"
   ]
  },
  {
   "cell_type": "code",
   "execution_count": null,
   "id": "c2890d46",
   "metadata": {
    "colab": {
     "base_uri": "https://localhost:8080/"
    },
    "id": "c2890d46",
    "outputId": "834d38f6-ded6-4632-8bfe-0e62bd353119"
   },
   "outputs": [],
   "source": [
    "greeting = \"Hello World!\"\n",
    "\n",
    "print(greeting)"
   ]
  },
  {
   "cell_type": "markdown",
   "id": "faa35a8e",
   "metadata": {
    "id": "faa35a8e"
   },
   "source": [
    "#### What types of data does Python understand?"
   ]
  },
  {
   "cell_type": "code",
   "execution_count": null,
   "id": "08df8b50",
   "metadata": {
    "colab": {
     "base_uri": "https://localhost:8080/"
    },
    "id": "08df8b50",
    "outputId": "09011862-7740-43e2-97ff-6da7a1f202ea"
   },
   "outputs": [],
   "source": [
    "x = 3\n",
    "print(type(x))"
   ]
  },
  {
   "cell_type": "code",
   "execution_count": null,
   "id": "0b737ae7",
   "metadata": {
    "colab": {
     "base_uri": "https://localhost:8080/"
    },
    "id": "0b737ae7",
    "outputId": "62e49d6d-1cb8-42c3-c18b-def07388ca95"
   },
   "outputs": [],
   "source": [
    "y = 2.0\n",
    "print(type(y))"
   ]
  },
  {
   "cell_type": "code",
   "execution_count": null,
   "id": "be2b1576",
   "metadata": {
    "colab": {
     "base_uri": "https://localhost:8080/"
    },
    "id": "be2b1576",
    "outputId": "13d848b6-d6b5-4b6c-853b-f1c3af351d90"
   },
   "outputs": [],
   "source": [
    "z = x * y\n",
    "print(z)\n",
    "print(type(z))"
   ]
  },
  {
   "cell_type": "markdown",
   "id": "13b495eb",
   "metadata": {
    "id": "13b495eb"
   },
   "source": [
    "#### You cannot combine a string and an integer:"
   ]
  },
  {
   "cell_type": "code",
   "execution_count": null,
   "id": "6314ee5c",
   "metadata": {
    "colab": {
     "base_uri": "https://localhost:8080/",
     "height": 254
    },
    "id": "6314ee5c",
    "outputId": "4e45bb4c-f7a6-40ab-9d67-31e3dc50a9bd"
   },
   "outputs": [],
   "source": [
    "x = \"Hello World\"\n",
    "y = 5\n",
    "\n",
    "z = x + y\n",
    "\n",
    "print(\"z =\", z)"
   ]
  },
  {
   "cell_type": "markdown",
   "id": "44omEz88F-PB",
   "metadata": {
    "id": "44omEz88F-PB"
   },
   "source": [
    "#### But you can add two strings together"
   ]
  },
  {
   "cell_type": "code",
   "execution_count": null,
   "id": "D8WY7tv8GIXv",
   "metadata": {
    "colab": {
     "base_uri": "https://localhost:8080/"
    },
    "id": "D8WY7tv8GIXv",
    "outputId": "f93ee413-42f2-4885-c811-b083597b0014"
   },
   "outputs": [],
   "source": [
    "x = \"Hello World\"\n",
    "y = \", I got some new text!\"\n",
    "\n",
    "z = x + y\n",
    "\n",
    "print(z)"
   ]
  },
  {
   "cell_type": "markdown",
   "id": "EjBY6xN4GeVl",
   "metadata": {
    "id": "EjBY6xN4GeVl"
   },
   "source": [
    "#### And convert to corret types if they do not match!"
   ]
  },
  {
   "cell_type": "code",
   "execution_count": null,
   "id": "4yU2hZ0CGkqu",
   "metadata": {
    "colab": {
     "base_uri": "https://localhost:8080/"
    },
    "id": "4yU2hZ0CGkqu",
    "outputId": "4f4386c6-02a2-44f5-de24-897ca16f9aef"
   },
   "outputs": [],
   "source": [
    "x = \"Hello World\"\n",
    "y = 5\n",
    "z = \"7\"\n",
    "\n",
    "print(\"Turning the number into a string: \",x + str(y))\n",
    "print(\"Turning the string into a number: \",y+int(z))\n",
    "print(\"Turning both into floats: \", float(y)+float(z))\n"
   ]
  },
  {
   "cell_type": "markdown",
   "id": "30c20492",
   "metadata": {
    "id": "30c20492"
   },
   "source": [
    "#### Variable names: No spaces, æ ø å or special characters! Use _ for space"
   ]
  },
  {
   "cell_type": "markdown",
   "id": "490f9bac",
   "metadata": {
    "id": "490f9bac"
   },
   "source": [
    "#### Legal variable names:"
   ]
  },
  {
   "cell_type": "code",
   "execution_count": null,
   "id": "84fc7560",
   "metadata": {
    "id": "84fc7560"
   },
   "outputs": [],
   "source": [
    "myvar = \"John\"\n",
    "my_var = \"John\"\n",
    "_my_var = \"John\"\n",
    "myVar = \"John\"\n",
    "MYVAR = \"John\"\n",
    "myvar2 = \"John\""
   ]
  },
  {
   "cell_type": "markdown",
   "id": "73f12b78",
   "metadata": {
    "id": "73f12b78"
   },
   "source": [
    "#### Illegal variable names:"
   ]
  },
  {
   "cell_type": "code",
   "execution_count": null,
   "id": "433f15f1",
   "metadata": {
    "colab": {
     "base_uri": "https://localhost:8080/",
     "height": 144
    },
    "id": "433f15f1",
    "outputId": "de683773-a154-4d53-e865-2f509f9ae921"
   },
   "outputs": [],
   "source": [
    "my-var = \"John\"\n",
    "my var = \"John\""
   ]
  },
  {
   "cell_type": "markdown",
   "id": "3d185992",
   "metadata": {
    "id": "3d185992"
   },
   "source": [
    "## Section 3 - For loops"
   ]
  },
  {
   "cell_type": "markdown",
   "id": "f3ca7105",
   "metadata": {
    "id": "f3ca7105"
   },
   "source": [
    "Often we want to do more than just one thing at a time. For this we can use for-loops.\n",
    "\n",
    "For-loops can be done with the range(n) funtions.\n",
    "\n",
    "#### NOTE: Python counts from 0 and not 1! range(n) will give you all the numbers from 0 to 𝑛−1."
   ]
  },
  {
   "cell_type": "code",
   "execution_count": null,
   "id": "1d38ad97",
   "metadata": {
    "colab": {
     "base_uri": "https://localhost:8080/"
    },
    "id": "1d38ad97",
    "outputId": "472ab2c7-7190-4810-e796-92477727df32"
   },
   "outputs": [],
   "source": [
    "# Print all numbers from 0 to 19\n",
    "for i in range(20):\n",
    "  print(i)\n",
    "\n",
    "print(\"Does this get repeated?\")"
   ]
  },
  {
   "cell_type": "markdown",
   "id": "e467b624",
   "metadata": {
    "id": "e467b624"
   },
   "source": [
    "#### Note how everything that is indented gets repeated by the for loop!"
   ]
  },
  {
   "cell_type": "markdown",
   "id": "14ffe897",
   "metadata": {
    "id": "14ffe897"
   },
   "source": [
    "#### How does range work?"
   ]
  },
  {
   "cell_type": "code",
   "execution_count": null,
   "id": "e3bead39",
   "metadata": {
    "colab": {
     "base_uri": "https://localhost:8080/"
    },
    "id": "e3bead39",
    "outputId": "79ac24c5-b331-4aaa-961e-18e1e3af830f"
   },
   "outputs": [],
   "source": [
    "# Convert the range to a list\n",
    "print( list(range(10)) )"
   ]
  },
  {
   "cell_type": "markdown",
   "id": "2d2b8543",
   "metadata": {
    "id": "2d2b8543"
   },
   "source": [
    "#### Again notice that range() does not include the final number!\n",
    "\n",
    "\n",
    "#### You can start from any number, by using two optional arguments:"
   ]
  },
  {
   "cell_type": "code",
   "execution_count": null,
   "id": "5e39ccfb",
   "metadata": {
    "colab": {
     "base_uri": "https://localhost:8080/"
    },
    "id": "5e39ccfb",
    "outputId": "46f423e1-1971-497c-8f68-88b534e4a677"
   },
   "outputs": [],
   "source": [
    "# Print from 10 to 20\n",
    "print( list(range(10, 21)) )"
   ]
  },
  {
   "cell_type": "markdown",
   "id": "84cc6e52",
   "metadata": {
    "id": "84cc6e52"
   },
   "source": [
    "#### Why is this cool? We can make sums:\n",
    "\n",
    "\\begin{equation}\n",
    "k = \\sum_{n=0}^{19} i\n",
    "\\end{equation}"
   ]
  },
  {
   "cell_type": "code",
   "execution_count": null,
   "id": "daf9f800",
   "metadata": {
    "colab": {
     "base_uri": "https://localhost:8080/"
    },
    "id": "daf9f800",
    "outputId": "36a5c353-d900-4a57-b3fd-ae1880fbc7ae"
   },
   "outputs": [],
   "source": [
    "k = 0\n",
    "for i in range(20):\n",
    "  #print(i)\n",
    "  k = k + i\n",
    "\n",
    "print(\"k =\", k)"
   ]
  },
  {
   "cell_type": "markdown",
   "id": "69b03977",
   "metadata": {},
   "source": [
    "#### Alternative way to make a sum:"
   ]
  },
  {
   "cell_type": "code",
   "execution_count": null,
   "id": "1b048f5d",
   "metadata": {},
   "outputs": [],
   "source": [
    "k = sum(range(20))\n",
    "print(\"k =\", k)"
   ]
  },
  {
   "cell_type": "markdown",
   "id": "3cc179e9",
   "metadata": {
    "id": "3cc179e9"
   },
   "source": [
    "## Section 4 - Lists"
   ]
  },
  {
   "cell_type": "markdown",
   "id": "57816a85",
   "metadata": {
    "id": "57816a85"
   },
   "source": [
    "Lists are a fundamental data structure of Python. A list contains a list of items, for example numbers.\n",
    "\n",
    "An example of a list with 7 items is given below:\n",
    "\n",
    "\\begin{array}{lrrrrrrr}\n",
    "\\texttt{i}  & 0  & 1 & 2 & 3 & 4 & 5 & 6 \\\\ \\hline\n",
    "\\texttt{my_list} & 3.5 & 2.1 & -2.5 & 1.2 & 6.2 & 5.2 & -8.1\n",
    "\\end{array}\n",
    "\n",
    "#### We can generate this list with:"
   ]
  },
  {
   "cell_type": "code",
   "execution_count": null,
   "id": "eaac9c01",
   "metadata": {
    "colab": {
     "base_uri": "https://localhost:8080/"
    },
    "id": "eaac9c01",
    "outputId": "58fd5cb4-1d5b-4172-b9c6-1227b5835a19"
   },
   "outputs": [],
   "source": [
    "my_list = [3.5, 2.1, -2.5, 1.2, 6.2, 5.2, -8.1]\n",
    "print(my_list)"
   ]
  },
  {
   "cell_type": "markdown",
   "id": "2a67979b",
   "metadata": {
    "id": "2a67979b"
   },
   "source": [
    "#### Again be careful and note that the first item in the list has the index $0$, and the last has the index $n-1$."
   ]
  },
  {
   "cell_type": "code",
   "execution_count": null,
   "id": "4534d077",
   "metadata": {
    "colab": {
     "base_uri": "https://localhost:8080/"
    },
    "id": "4534d077",
    "outputId": "3bbbc26d-0bc2-486d-9eb1-10e73c9056ec"
   },
   "outputs": [],
   "source": [
    "# The first item in the list\n",
    "print(my_list[0])\n",
    "\n",
    "# The \"third\" item in the list\n",
    "print(my_list[2])\n",
    "\n",
    "# The last item in the list\n",
    "print(my_list[6])\n",
    "\n",
    "# Another way to get the last item\n",
    "print(my_list[-1])\n",
    "\n",
    "# The second last\n",
    "print(my_list[-2])"
   ]
  },
  {
   "cell_type": "markdown",
   "id": "0c6d324f",
   "metadata": {
    "id": "0c6d324f"
   },
   "source": [
    "#### How many elements does our list contain? Use len():"
   ]
  },
  {
   "cell_type": "code",
   "execution_count": null,
   "id": "291a33a0",
   "metadata": {
    "colab": {
     "base_uri": "https://localhost:8080/"
    },
    "id": "291a33a0",
    "outputId": "ba04d9c4-3095-4d9a-fc23-e6d35916efe1"
   },
   "outputs": [],
   "source": [
    "# print length of that list\n",
    "print(len(my_list))"
   ]
  },
  {
   "cell_type": "code",
   "execution_count": null,
   "id": "62bd3022",
   "metadata": {
    "colab": {
     "base_uri": "https://localhost:8080/"
    },
    "id": "62bd3022",
    "outputId": "90428fa5-add2-452b-f01a-ff4d05dbf53e"
   },
   "outputs": [],
   "source": [
    "# Example 1: Print some_numbers\n",
    "for i in range(len(my_list)):\n",
    "  print(my_list[i])"
   ]
  },
  {
   "cell_type": "markdown",
   "id": "5j1DLHd6H8D2",
   "metadata": {
    "id": "5j1DLHd6H8D2"
   },
   "source": [
    "Instead you can directly loop over the list items like this:"
   ]
  },
  {
   "cell_type": "code",
   "execution_count": null,
   "id": "52167955",
   "metadata": {
    "colab": {
     "base_uri": "https://localhost:8080/"
    },
    "id": "52167955",
    "outputId": "d5b0340c-f288-4f40-dcc6-6df215e3d6b3"
   },
   "outputs": [],
   "source": [
    "# Example 2: Print some_numbers\n",
    "for n in my_list:\n",
    "  print(n)"
   ]
  },
  {
   "cell_type": "markdown",
   "id": "e82ca191",
   "metadata": {
    "id": "e82ca191"
   },
   "source": [
    "#### What happens if we ask for a missing element?"
   ]
  },
  {
   "cell_type": "code",
   "execution_count": null,
   "id": "6cb0c289",
   "metadata": {
    "colab": {
     "base_uri": "https://localhost:8080/",
     "height": 217
    },
    "id": "6cb0c289",
    "outputId": "beeb376f-4a74-40c9-89f4-e5a7460b9712"
   },
   "outputs": [],
   "source": [
    "my_list = [3.5, 2.1, -2.5, 1.2, 6.2, 5.2, -8.1]\n",
    "\n",
    "# Only up to 6 allowed!\n",
    "print(my_list[7])"
   ]
  },
  {
   "cell_type": "markdown",
   "id": "46da6c02",
   "metadata": {
    "id": "46da6c02"
   },
   "source": [
    "#### We can sum over items in a list\n",
    "\n",
    "\\begin{equation}\n",
    "y = \\sum_{i=0}^n x_i\n",
    "\\end{equation}"
   ]
  },
  {
   "cell_type": "code",
   "execution_count": null,
   "id": "1ab7e59e",
   "metadata": {
    "colab": {
     "base_uri": "https://localhost:8080/"
    },
    "id": "1ab7e59e",
    "outputId": "91b34611-2d53-4735-8804-3591928c893a"
   },
   "outputs": [],
   "source": [
    "my_sum = 0\n",
    "\n",
    "for i in range(7):\n",
    "\n",
    "  print(i, my_list[i])\n",
    "  my_sum = my_sum + my_list[i]\n",
    "\n",
    "print(\"my_sum =\", my_sum)"
   ]
  },
  {
   "cell_type": "markdown",
   "id": "QAylo2atB_n9",
   "metadata": {
    "id": "QAylo2atB_n9"
   },
   "source": [
    "#### Lists have serval usefull methods: https://www.w3schools.com/python/python_ref_list.asp\n",
    "\n",
    "#### And pythons functions that work on lists: https://www.softwaretestinghelp.com/python-list-functions/\n",
    "\n",
    "#### Functions mostly keep the original list intact. The following are some examples of the most commonly used ones."
   ]
  },
  {
   "cell_type": "code",
   "execution_count": null,
   "id": "wlbawabzDlv8",
   "metadata": {
    "colab": {
     "base_uri": "https://localhost:8080/"
    },
    "id": "wlbawabzDlv8",
    "outputId": "cf8128eb-118f-4453-f762-80bb9759b2f7"
   },
   "outputs": [],
   "source": [
    "\n",
    "print(\"Alternativ way of getting the sum of a list:\",sum(my_list))\n",
    "print(\"Finding the minimum:\",min(my_list))\n",
    "print(\"Finding the maximum:\",max(my_list))\n",
    "print(\"Finding the length:\",len(my_list))\n",
    "print(\"Sorting:\",sorted(my_list))\n",
    "print(\"Sortinging in reverse order:\",sorted(my_list,reverse=True))\n",
    "print(\"Adding two lists together with +:\", my_list + ['a','b','c'])\n",
    "#The list here is needed because the \"enumerate\" function is an iterator (Feel free to google, but ignore for a more advanced python course)\n",
    "print(\"Adding an index to the list starting from 0\", list(enumerate(my_list,0)))\n",
    "print(\"Look my list is still the same:\",my_list)\n"
   ]
  },
  {
   "cell_type": "markdown",
   "id": "2eToVrJHMm1z",
   "metadata": {
    "id": "2eToVrJHMm1z"
   },
   "source": [
    "#### Methods change the array. However, for some cases, a simple copy will still link to the original list and make changes to that. Instead use the .copy() method to make a copy of the list.\n"
   ]
  },
  {
   "cell_type": "code",
   "execution_count": null,
   "id": "xsqRmjAmMpyx",
   "metadata": {
    "colab": {
     "base_uri": "https://localhost:8080/"
    },
    "id": "xsqRmjAmMpyx",
    "outputId": "05da37f8-c2eb-4c62-963c-ea22726fd0fe"
   },
   "outputs": [],
   "source": [
    "my_copy_list = my_list.copy()\n",
    "my_copy_list.append(\"a\")\n",
    "print('An \"a\" has been added to the list: ',my_copy_list)\n",
    "my_copy_list.remove(\"a\")\n",
    "print('Remove the \"a\" again: ',my_copy_list)\n",
    "my_copy_list.insert(3,\"a\")\n",
    "print('Added the \"a\" at the 4th position', my_copy_list)\n",
    "my_copy_list.pop(3)\n",
    "print('Remove the \"a\" at the 4th position: ', my_copy_list)"
   ]
  },
  {
   "cell_type": "markdown",
   "id": "dOgGJMlPOQpt",
   "metadata": {
    "id": "dOgGJMlPOQpt"
   },
   "source": [
    "#### List can be built using for loops"
   ]
  },
  {
   "cell_type": "code",
   "execution_count": null,
   "id": "ovmDUBZROTfm",
   "metadata": {
    "colab": {
     "base_uri": "https://localhost:8080/"
    },
    "id": "ovmDUBZROTfm",
    "outputId": "cb1ba8a3-ca2d-4559-a1ed-12cdd5e2a103"
   },
   "outputs": [],
   "source": [
    "new_list = []\n",
    "for x in range(7):\n",
    "  new_list.append(x**2)\n",
    "print(new_list)"
   ]
  },
  {
   "cell_type": "markdown",
   "id": "Dg0dwfsSOjfM",
   "metadata": {
    "id": "Dg0dwfsSOjfM"
   },
   "source": [
    "#### Or much cleaner using list comprehension: https://www.w3schools.com/python/python_lists_comprehension.asp"
   ]
  },
  {
   "cell_type": "code",
   "execution_count": null,
   "id": "QeQu_gAIOgEb",
   "metadata": {
    "colab": {
     "base_uri": "https://localhost:8080/"
    },
    "id": "QeQu_gAIOgEb",
    "outputId": "d3811689-d614-4cea-d571-e5d7a282f3fa"
   },
   "outputs": [],
   "source": [
    "new_list = [x**2 for x in range(7)]\n",
    "print(new_list)"
   ]
  },
  {
   "cell_type": "markdown",
   "id": "gC0WPffjQvIZ",
   "metadata": {
    "id": "gC0WPffjQvIZ"
   },
   "source": [
    "#### Python supports conditional statements, these can be used anywhere in the code but are particularly useful in loops and list comprehension.\n",
    "* == checks if two things are equal\n",
    "* != checks if they are not equal\n",
    "* \\> and < checks if something is less than or larger than something else.\n",
    "* <= and >= checks if something is less/larger than or equal.\n",
    "\n",
    "#### Serveral conditional statements can be piced together using:\n",
    "* \"and\" All the statements will need to be fulfilled for the code to run.\n",
    "* \"or\" will go from left to right and execute the code as soon as a statement is fulfilled."
   ]
  },
  {
   "cell_type": "code",
   "execution_count": null,
   "id": "sr1WHrVkRYXO",
   "metadata": {
    "colab": {
     "base_uri": "https://localhost:8080/"
    },
    "id": "sr1WHrVkRYXO",
    "outputId": "49685e41-0b0a-4071-b3de-749ee22128bf"
   },
   "outputs": [],
   "source": [
    "new_list = []\n",
    "for x in range(7):\n",
    "  if x == 1: #Will only run if x is one\n",
    "    print('One was hit')\n",
    "    new_list.append(100000)\n",
    "  elif x == 2: #If x is not 1 but two do this\n",
    "    print('Two was hit')\n",
    "    new_list.append(-100000)\n",
    "  else:\n",
    "    print('This code will run if 1 and 2 was not hit')\n",
    "    new_list.append(x**2)\n",
    "  print('Current x:', x) #This code will always run\n",
    "print(new_list)"
   ]
  },
  {
   "cell_type": "markdown",
   "id": "ea0c679e",
   "metadata": {
    "id": "ea0c679e"
   },
   "source": [
    "## Section 5 - Common errors and debugging"
   ]
  },
  {
   "cell_type": "markdown",
   "id": "4142450b",
   "metadata": {
    "id": "4142450b"
   },
   "source": [
    "Here are some common errors that you definately **will** encounter!"
   ]
  },
  {
   "cell_type": "markdown",
   "id": "2358be3c",
   "metadata": {
    "id": "2358be3c"
   },
   "source": [
    "#### Error 1:"
   ]
  },
  {
   "cell_type": "code",
   "execution_count": null,
   "id": "264dbce8",
   "metadata": {
    "id": "264dbce8"
   },
   "outputs": [],
   "source": [
    "k = 0\n",
    "\n",
    "# Sum all numbers from 0 to 9\n",
    "for i in range(10):\n",
    "  k = k + 1\n",
    "\n",
    " print(k)"
   ]
  },
  {
   "cell_type": "markdown",
   "id": "9b288053",
   "metadata": {
    "id": "9b288053"
   },
   "source": [
    "#### Error 2:"
   ]
  },
  {
   "cell_type": "code",
   "execution_count": null,
   "id": "41b26b7d",
   "metadata": {
    "id": "41b26b7d"
   },
   "outputs": [],
   "source": [
    "my_list = [1.0, 2.0, 3.0, 4.0, 5.0]\n",
    "\n",
    "print(\"Length of list:\", len(my_list))\n",
    "\n",
    "print(my_list[1])\n",
    "print(my_list[2])\n",
    "print(my_list[3])\n",
    "print(my_list[4])\n",
    "print(my_list[5])"
   ]
  },
  {
   "cell_type": "markdown",
   "id": "0bafa78c",
   "metadata": {
    "id": "0bafa78c"
   },
   "source": [
    "#### Error 3:"
   ]
  },
  {
   "cell_type": "code",
   "execution_count": null,
   "id": "f510126e",
   "metadata": {
    "id": "f510126e"
   },
   "outputs": [],
   "source": [
    "# Error 3:\n",
    "\n",
    "y = [3.5, 2.1, -2.5, 1.2, 6.2, 5.2, -8.1]\n",
    "\n",
    "# print y\n",
    "print(y)\n",
    "\n",
    "# print second entry in y\n",
    "print(y(2)\n",
    "\n",
    "print(\"Done!\")"
   ]
  },
  {
   "cell_type": "markdown",
   "id": "070e252d",
   "metadata": {
    "id": "070e252d"
   },
   "source": [
    "#### Error 4:"
   ]
  },
  {
   "cell_type": "code",
   "execution_count": null,
   "id": "6a28e581",
   "metadata": {
    "id": "6a28e581"
   },
   "outputs": [],
   "source": [
    "for i in range(10)\n",
    "    print(i)\n",
    "\n",
    "print \"Done!\""
   ]
  },
  {
   "cell_type": "markdown",
   "id": "248e4e99",
   "metadata": {
    "id": "248e4e99"
   },
   "source": [
    "## Section 6 - Defining functions\n",
    "\n",
    "Numpy has some in-build functions such as the exponential function:\n",
    "\n",
    "\\begin{equation}\n",
    "f(x) = e^{x}\n",
    "\\end{equation}"
   ]
  },
  {
   "cell_type": "code",
   "execution_count": null,
   "id": "bf3adaeb",
   "metadata": {
    "colab": {
     "base_uri": "https://localhost:8080/"
    },
    "id": "bf3adaeb",
    "outputId": "b58aa419-bf66-4f13-dc82-58abc1f4dec2"
   },
   "outputs": [],
   "source": [
    "import numpy as np\n",
    "\n",
    "e = np.exp(1.0)\n",
    "\n",
    "print(e)"
   ]
  },
  {
   "cell_type": "markdown",
   "id": "9d9c04e1",
   "metadata": {
    "id": "9d9c04e1"
   },
   "source": [
    "#### We can also define the functions ourself:"
   ]
  },
  {
   "cell_type": "code",
   "execution_count": null,
   "id": "bcd30629",
   "metadata": {
    "id": "bcd30629"
   },
   "outputs": [],
   "source": [
    "def square(x):\n",
    "  f = x**2\n",
    "  return f\n",
    "\n",
    "print(square(2))"
   ]
  },
  {
   "cell_type": "markdown",
   "id": "ee79525a",
   "metadata": {
    "id": "ee79525a"
   },
   "source": [
    "#### This can become arbitrarily complex:  \n",
    "\n",
    "\\begin{equation}\n",
    "f(x) = \\sum_{n=0}^{10} x^{n}\n",
    "\\end{equation}"
   ]
  },
  {
   "cell_type": "code",
   "execution_count": null,
   "id": "44345e39",
   "metadata": {
    "id": "44345e39"
   },
   "outputs": [],
   "source": [
    "def power_sum(x):\n",
    "\n",
    "  f = 0\n",
    "\n",
    "  for n in range(11):\n",
    "    f = f + x**n\n",
    "\n",
    "  return f\n",
    "\n",
    "print(power_sum(1))\n",
    "print(power_sum(11))"
   ]
  },
  {
   "cell_type": "markdown",
   "id": "7b721d24",
   "metadata": {
    "id": "7b721d24"
   },
   "source": [
    "#### A common error when defining functions. What is wrong here?"
   ]
  },
  {
   "cell_type": "code",
   "execution_count": null,
   "id": "41df5dfe",
   "metadata": {
    "id": "41df5dfe"
   },
   "outputs": [],
   "source": [
    "def cubed(x):\n",
    "  f = x**3\n",
    "\n",
    "print(cubed(3))"
   ]
  }
 ],
 "metadata": {
  "colab": {
   "provenance": []
  },
  "kernelspec": {
   "display_name": "Python 3 (ipykernel)",
   "language": "python",
   "name": "python3"
  },
  "language_info": {
   "codemirror_mode": {
    "name": "ipython",
    "version": 3
   },
   "file_extension": ".py",
   "mimetype": "text/x-python",
   "name": "python",
   "nbconvert_exporter": "python",
   "pygments_lexer": "ipython3",
   "version": "3.9.10"
  }
 },
 "nbformat": 4,
 "nbformat_minor": 5
}
